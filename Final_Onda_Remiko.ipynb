{
  "nbformat": 4,
  "nbformat_minor": 0,
  "metadata": {
    "colab": {
      "name": "Final_Onda_Remiko.ipynb",
      "provenance": [],
      "collapsed_sections": [],
      "toc_visible": true,
      "include_colab_link": true
    },
    "kernelspec": {
      "name": "python3",
      "display_name": "Python 3"
    },
    "language_info": {
      "name": "python"
    }
  },
  "cells": [
    {
      "cell_type": "markdown",
      "metadata": {
        "id": "view-in-github",
        "colab_type": "text"
      },
      "source": [
        "<a href=\"https://colab.research.google.com/github/remikoonda/VideoGameRatings/blob/main/Final_Onda_Remiko.ipynb\" target=\"_parent\"><img src=\"https://colab.research.google.com/assets/colab-badge.svg\" alt=\"Open In Colab\"/></a>"
      ]
    },
    {
      "cell_type": "markdown",
      "metadata": {
        "id": "HLZ91mmvMQyl"
      },
      "source": [
        "## **Machine Learning Final Project DUE: Friday May 7th 11:59pm**\n",
        "\n",
        "**Note: Please read all the instructions carefully before starting the project.**\n",
        "\n",
        "For your final project you will build an ML model to analyze a dataset of your choice. You are welcome to keep working on the data in your EDA project if your data is large enough (at least 1000 rows for simple models and at least 10,000 for more complex models) or you can choose from the datasets/project suggestions below.\n",
        "\n",
        "In this project make sure that you:\n",
        "- Have a large enough dataset\n",
        "- Split your data in training and testing\n",
        "- Explore your data to inform which type of model to choose (no need if you are using your EDA dataset)\n",
        "- Try different models on your training dataset - then select the most promising model\n",
        "- Use cross validation to fine tune the model’s parameters such as alpha in lasso\n",
        "- Simplify your model using regularization, prunnning, drop-out, etc. to avoid overfitting\n",
        "- Communicate your model’s performance and make sure you compare it to a benchmark when appropriate\n",
        "- Plot interesting graphs and results\n",
        "- Write and publish your article to medium\n",
        "- Commit your code to your GitHub\n",
        "\n",
        "Please ensure you handle all the preprocessing before the modeling.\n",
        "\n",
        "Suggestions for project:\n",
        "You can take a look at the resources given below for choosing a dataset for your project. \n",
        "\n",
        "- Traffic sign detection - https://benchmark.ini.rub.de/gtsdb_dataset.html\n",
        "- Cat and dog classifier - https://www.kaggle.com/c/dogs-vs-cats/data\n",
        "- Other datasets from Kaggle - https://www.kaggle.com/data/41592"
      ]
    },
    {
      "cell_type": "markdown",
      "metadata": {
        "id": "mirWm3dBPv90"
      },
      "source": [
        "## **Grading Criteria**\n",
        "\n",
        "- Show clear exploration of the data to justify model choice\n",
        "- Train mutliple models and clearly articulate why you chose your final model\n",
        "- Show your performance on test dataset\n",
        "- Clear and concise write-up with clear well-documented figures\n",
        "- Commit your code to GitHub"
      ]
    },
    {
      "cell_type": "markdown",
      "metadata": {
        "id": "4ZRNqxFcP4wx"
      },
      "source": [
        "## **Submission Details**\n",
        "\n",
        "This is an individual assignment. You may not work in groups. The assignment is due on Friday (05/07/2021)\n",
        "- To submit your assignment, download your notebook and the dataset, zip the dataset and notebook, and submit the zipped file on blackboard.\n",
        "- Make sure the notebook is named in the format - Final_LastName_FirstName. If you are submitting a zipped file, please name the file as well in the same format.\n",
        "- Please include the link to access your blog and your github repo in your notebook.\n",
        "- Also include the link to your notebook, github repo and the blog in the submission on blackboard. Please ensure the TAs have the required access to your notebooks and the github repo.\n",
        "\n",
        "**Note - If the dataset is too large to be zipped and submitted on blackboard, only submit your notebook, add your dataset to your google drive and share a link to the file in your notebook.**"
      ]
    },
    {
      "cell_type": "markdown",
      "metadata": {
        "id": "yDD4b6RqazUe"
      },
      "source": [
        "# From my EDA project..."
      ]
    },
    {
      "cell_type": "code",
      "metadata": {
        "id": "ZzWRBLl6MImY",
        "colab": {
          "resources": {
            "http://localhost:8080/nbextensions/google.colab/files.js": {
              "data": "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",
              "ok": true,
              "headers": [
                [
                  "content-type",
                  "application/javascript"
                ]
              ],
              "status": 200,
              "status_text": ""
            }
          },
          "base_uri": "https://localhost:8080/",
          "height": 72
        },
        "outputId": "a29bcfdf-a5ac-4fe5-e649-4dfa1897839e"
      },
      "source": [
        "import numpy as np\n",
        "import pandas as pd\n",
        "\n",
        "from google.colab import files\n",
        "uploaded = files.upload()"
      ],
      "execution_count": 1,
      "outputs": [
        {
          "output_type": "display_data",
          "data": {
            "text/html": [
              "\n",
              "     <input type=\"file\" id=\"files-f4a29209-75e0-4da5-af0e-a332a4e59576\" name=\"files[]\" multiple disabled\n",
              "        style=\"border:none\" />\n",
              "     <output id=\"result-f4a29209-75e0-4da5-af0e-a332a4e59576\">\n",
              "      Upload widget is only available when the cell has been executed in the\n",
              "      current browser session. Please rerun this cell to enable.\n",
              "      </output>\n",
              "      <script src=\"/nbextensions/google.colab/files.js\"></script> "
            ],
            "text/plain": [
              "<IPython.core.display.HTML object>"
            ]
          },
          "metadata": {
            "tags": []
          }
        },
        {
          "output_type": "stream",
          "text": [
            "Saving Video_Game_Sales.csv to Video_Game_Sales.csv\n"
          ],
          "name": "stdout"
        }
      ]
    },
    {
      "cell_type": "code",
      "metadata": {
        "colab": {
          "base_uri": "https://localhost:8080/"
        },
        "id": "6AuN2FJCa-kO",
        "outputId": "93148a30-727e-494d-c9af-164ce3e26431"
      },
      "source": [
        "data = pd.read_csv('Video_Game_Sales.csv')\n",
        "frame = pd.DataFrame(data)\n",
        "print(frame)"
      ],
      "execution_count": 2,
      "outputs": [
        {
          "output_type": "stream",
          "text": [
            "                                                   Name  ... Rating\n",
            "0                                            Wii Sports  ...      E\n",
            "1                                     Super Mario Bros.  ...    NaN\n",
            "2                                        Mario Kart Wii  ...      E\n",
            "3                                     Wii Sports Resort  ...      E\n",
            "4                              Pokemon Red/Pokemon Blue  ...    NaN\n",
            "...                                                 ...  ...    ...\n",
            "17411  Nancy Drew: The Deadly Secret of Olde World Park  ...      E\n",
            "17412                      Fashion Designer: Style Icon  ...    NaN\n",
            "17413            Ashita no Joe 2: The Anime Super Remix  ...    NaN\n",
            "17414            NadePro!! Kisama no Seiyuu Yatte Miro!  ...    NaN\n",
            "17415                     Brian Lara 2007 Pressure Play  ...    NaN\n",
            "\n",
            "[17416 rows x 15 columns]\n"
          ],
          "name": "stdout"
        }
      ]
    },
    {
      "cell_type": "markdown",
      "metadata": {
        "id": "OnrZ3uCjfEV1"
      },
      "source": [
        "# My goal is to build a classification model that predicts the rating of video games. Specifically, I want to find out whether a video game is children/teen friendly or for mature audiences only.\n",
        "\n",
        "The dependent variable would be the \"Rating\" (E or M). "
      ]
    },
    {
      "cell_type": "code",
      "metadata": {
        "id": "YV0y6hyxbAlk",
        "colab": {
          "base_uri": "https://localhost:8080/"
        },
        "outputId": "231f8d8e-cb54-47e9-92c7-33f502fc9951"
      },
      "source": [
        "# Filter columns that will not be used: NA Sales, EU Sales, JP Sales, Other Sales, Global Sales, \n",
        "frame1 = frame.drop(['Year_of_Release', 'Critic_Score', 'Critic_Count', 'User_Score', 'User_Count','NA_Sales', 'EU_Sales', 'JP_Sales', 'Other_Sales', 'Global_Sales'], axis=1)\n",
        "print(frame1)"
      ],
      "execution_count": 3,
      "outputs": [
        {
          "output_type": "stream",
          "text": [
            "                                                   Name  ... Rating\n",
            "0                                            Wii Sports  ...      E\n",
            "1                                     Super Mario Bros.  ...    NaN\n",
            "2                                        Mario Kart Wii  ...      E\n",
            "3                                     Wii Sports Resort  ...      E\n",
            "4                              Pokemon Red/Pokemon Blue  ...    NaN\n",
            "...                                                 ...  ...    ...\n",
            "17411  Nancy Drew: The Deadly Secret of Olde World Park  ...      E\n",
            "17412                      Fashion Designer: Style Icon  ...    NaN\n",
            "17413            Ashita no Joe 2: The Anime Super Remix  ...    NaN\n",
            "17414            NadePro!! Kisama no Seiyuu Yatte Miro!  ...    NaN\n",
            "17415                     Brian Lara 2007 Pressure Play  ...    NaN\n",
            "\n",
            "[17416 rows x 5 columns]\n"
          ],
          "name": "stdout"
        }
      ]
    },
    {
      "cell_type": "code",
      "metadata": {
        "id": "NPWUIOXTbCjD",
        "colab": {
          "base_uri": "https://localhost:8080/"
        },
        "outputId": "48761706-d3b5-43d5-b1c2-427ab06a7af0"
      },
      "source": [
        "# Set the company name to be the index\n",
        "frameNew = frame1.set_index(['Name'])\n",
        "print(frameNew)"
      ],
      "execution_count": 4,
      "outputs": [
        {
          "output_type": "stream",
          "text": [
            "                                                 Platform  ... Rating\n",
            "Name                                                       ...       \n",
            "Wii Sports                                            Wii  ...      E\n",
            "Super Mario Bros.                                     NES  ...    NaN\n",
            "Mario Kart Wii                                        Wii  ...      E\n",
            "Wii Sports Resort                                     Wii  ...      E\n",
            "Pokemon Red/Pokemon Blue                                G  ...    NaN\n",
            "...                                                   ...  ...    ...\n",
            "Nancy Drew: The Deadly Secret of Olde World Park       DS  ...      E\n",
            "Fashion Designer: Style Icon                           DS  ...    NaN\n",
            "Ashita no Joe 2: The Anime Super Remix                PS2  ...    NaN\n",
            "NadePro!! Kisama no Seiyuu Yatte Miro!                PS2  ...    NaN\n",
            "Brian Lara 2007 Pressure Play                         PSP  ...    NaN\n",
            "\n",
            "[17416 rows x 4 columns]\n"
          ],
          "name": "stdout"
        }
      ]
    },
    {
      "cell_type": "code",
      "metadata": {
        "id": "6f63yhp976Em",
        "colab": {
          "base_uri": "https://localhost:8080/"
        },
        "outputId": "2d0fc67e-3b42-4860-df51-537cc62f9f7a"
      },
      "source": [
        "# check for missing values\n",
        "print(frameNew.isnull().any())\n",
        "print(frameNew.isnull().sum() / len(frameNew) * 100)"
      ],
      "execution_count": 5,
      "outputs": [
        {
          "output_type": "stream",
          "text": [
            "Platform     False\n",
            "Genre        False\n",
            "Publisher     True\n",
            "Rating        True\n",
            "dtype: bool\n",
            "Platform      0.000000\n",
            "Genre         0.000000\n",
            "Publisher     0.005742\n",
            "Rating       41.134589\n",
            "dtype: float64\n"
          ],
          "name": "stdout"
        }
      ]
    },
    {
      "cell_type": "code",
      "metadata": {
        "id": "zEmfE0bw9JGZ",
        "colab": {
          "base_uri": "https://localhost:8080/"
        },
        "outputId": "209966c0-5ebd-4993-8550-d439172ce85c"
      },
      "source": [
        "# drop all the rows (samples) with missing values in specific column\n",
        "frameClean = frameNew.dropna(subset=['Publisher', 'Rating'])\n",
        "print(frameClean)"
      ],
      "execution_count": 6,
      "outputs": [
        {
          "output_type": "stream",
          "text": [
            "                                                 Platform  ... Rating\n",
            "Name                                                       ...       \n",
            "Wii Sports                                            Wii  ...      E\n",
            "Mario Kart Wii                                        Wii  ...      E\n",
            "Wii Sports Resort                                     Wii  ...      E\n",
            "New Super Mario Bros.                                  DS  ...      E\n",
            "Wii Play                                              Wii  ...      E\n",
            "...                                                   ...  ...    ...\n",
            "Blacksite: Area 51                                     PC  ...      T\n",
            "Virtua Tennis 2009                                     PC  ...      E\n",
            "CivCity: Rome                                          PC  ...   E10+\n",
            "Super Meat Boy                                        PS4  ...      T\n",
            "Nancy Drew: The Deadly Secret of Olde World Park       DS  ...      E\n",
            "\n",
            "[10252 rows x 4 columns]\n"
          ],
          "name": "stdout"
        }
      ]
    },
    {
      "cell_type": "code",
      "metadata": {
        "id": "Ft5qWzFVFJ-x",
        "colab": {
          "base_uri": "https://localhost:8080/"
        },
        "outputId": "62d3c2bd-1e2f-4e42-8909-74b7db3930ca"
      },
      "source": [
        "# Checking again to make sure there are no rows with missing values\n",
        "print(frameClean.isnull().any())\n",
        "print(frameClean.isnull().sum())"
      ],
      "execution_count": 7,
      "outputs": [
        {
          "output_type": "stream",
          "text": [
            "Platform     False\n",
            "Genre        False\n",
            "Publisher    False\n",
            "Rating       False\n",
            "dtype: bool\n",
            "Platform     0\n",
            "Genre        0\n",
            "Publisher    0\n",
            "Rating       0\n",
            "dtype: int64\n"
          ],
          "name": "stdout"
        }
      ]
    },
    {
      "cell_type": "code",
      "metadata": {
        "id": "0Gjzga45F6iz",
        "colab": {
          "base_uri": "https://localhost:8080/"
        },
        "outputId": "75ec51ad-2266-465d-acc0-bea047a9f5d3"
      },
      "source": [
        "# Converting rating values of \"E10+\" and \"T\" into \"E\"\n",
        "frameClean['Rating'].replace('E10+', inplace=True)\n",
        "frameClean['Rating'].replace('T', inplace=True)\n",
        "print(frameClean)"
      ],
      "execution_count": 8,
      "outputs": [
        {
          "output_type": "stream",
          "text": [
            "                                                 Platform  ... Rating\n",
            "Name                                                       ...       \n",
            "Wii Sports                                            Wii  ...      E\n",
            "Mario Kart Wii                                        Wii  ...      E\n",
            "Wii Sports Resort                                     Wii  ...      E\n",
            "New Super Mario Bros.                                  DS  ...      E\n",
            "Wii Play                                              Wii  ...      E\n",
            "...                                                   ...  ...    ...\n",
            "Blacksite: Area 51                                     PC  ...      E\n",
            "Virtua Tennis 2009                                     PC  ...      E\n",
            "CivCity: Rome                                          PC  ...      E\n",
            "Super Meat Boy                                        PS4  ...      E\n",
            "Nancy Drew: The Deadly Secret of Olde World Park       DS  ...      E\n",
            "\n",
            "[10252 rows x 4 columns]\n"
          ],
          "name": "stdout"
        }
      ]
    },
    {
      "cell_type": "code",
      "metadata": {
        "id": "uBeM25juWYBe"
      },
      "source": [
        "# Storing the feature and target variable\n",
        "X = frameClean[['Platform', 'Genre', 'Publisher']]\n",
        "y = frameClean['Rating']"
      ],
      "execution_count": 9,
      "outputs": []
    },
    {
      "cell_type": "code",
      "metadata": {
        "colab": {
          "base_uri": "https://localhost:8080/"
        },
        "id": "cPZtmXvmXDa2",
        "outputId": "a386783d-739a-44a5-d9a1-1545f2f5ba26"
      },
      "source": [
        "# Converting all categorical variables into dummy variables\n",
        "frame1 = pd.get_dummies(frameClean, columns=['Platform', 'Genre', 'Publisher'])\n",
        "print(frame1)"
      ],
      "execution_count": 10,
      "outputs": [
        {
          "output_type": "stream",
          "text": [
            "                                                 Rating  ...  Publisher_inXile Entertainment\n",
            "Name                                                     ...                                \n",
            "Wii Sports                                            E  ...                               0\n",
            "Mario Kart Wii                                        E  ...                               0\n",
            "Wii Sports Resort                                     E  ...                               0\n",
            "New Super Mario Bros.                                 E  ...                               0\n",
            "Wii Play                                              E  ...                               0\n",
            "...                                                 ...  ...                             ...\n",
            "Blacksite: Area 51                                    E  ...                               0\n",
            "Virtua Tennis 2009                                    E  ...                               0\n",
            "CivCity: Rome                                         E  ...                               0\n",
            "Super Meat Boy                                        E  ...                               0\n",
            "Nancy Drew: The Deadly Secret of Olde World Park      E  ...                               0\n",
            "\n",
            "[10252 rows x 389 columns]\n"
          ],
          "name": "stdout"
        }
      ]
    },
    {
      "cell_type": "code",
      "metadata": {
        "id": "JQEklt9nX8Fn"
      },
      "source": [
        "# Partition the data into training and test sets (70/30)\n",
        "y = frame1['Rating'] \n",
        "X = frame1.iloc[:,1:]"
      ],
      "execution_count": 11,
      "outputs": []
    },
    {
      "cell_type": "code",
      "metadata": {
        "id": "HvnZ0xHPdMc3"
      },
      "source": [
        "# Train the data\n",
        "from sklearn.model_selection import train_test_split\n",
        "X_train, X_test, y_train, y_test = train_test_split(X, y, test_size=0.3, random_state = 2020, stratify=y)"
      ],
      "execution_count": 12,
      "outputs": []
    },
    {
      "cell_type": "code",
      "metadata": {
        "colab": {
          "base_uri": "https://localhost:8080/"
        },
        "id": "2AaUg1K1mOcZ",
        "outputId": "ac356d17-d751-40da-edab-ad0d04d982fe"
      },
      "source": [
        "# compute baseline classification accuracy\n",
        "from sklearn.dummy import DummyClassifier\n",
        "dummy_classifier = DummyClassifier(strategy='most_frequent')\n",
        "dummy_classifier.fit(X_train,y_train)\n",
        "baseline_acc = dummy_classifier.score(X_test,y_test)\n",
        "\n",
        "# for verifying answer:\n",
        "print(\"Baseline Accuracy = \", baseline_acc)"
      ],
      "execution_count": 13,
      "outputs": [
        {
          "output_type": "stream",
          "text": [
            "Baseline Accuracy =  0.7233420026007802\n"
          ],
          "name": "stdout"
        }
      ]
    },
    {
      "cell_type": "markdown",
      "metadata": {
        "id": "ODrrtC0HmbCV"
      },
      "source": [
        "# 1st Model: Classification Tree"
      ]
    },
    {
      "cell_type": "code",
      "metadata": {
        "colab": {
          "base_uri": "https://localhost:8080/"
        },
        "id": "czM3lpsMdutT",
        "outputId": "526a3540-2162-4b38-ea50-398167863ffa"
      },
      "source": [
        "# Fit the training data to a classification tree\n",
        "from sklearn.tree import DecisionTreeClassifier\n",
        "dt = DecisionTreeClassifier(max_depth=6, criterion=\"entropy\", random_state=2020)\n",
        "dt.fit(X_train, y_train)"
      ],
      "execution_count": 14,
      "outputs": [
        {
          "output_type": "execute_result",
          "data": {
            "text/plain": [
              "DecisionTreeClassifier(ccp_alpha=0.0, class_weight=None, criterion='entropy',\n",
              "                       max_depth=6, max_features=None, max_leaf_nodes=None,\n",
              "                       min_impurity_decrease=0.0, min_impurity_split=None,\n",
              "                       min_samples_leaf=1, min_samples_split=2,\n",
              "                       min_weight_fraction_leaf=0.0, presort='deprecated',\n",
              "                       random_state=2020, splitter='best')"
            ]
          },
          "metadata": {
            "tags": []
          },
          "execution_count": 14
        }
      ]
    },
    {
      "cell_type": "code",
      "metadata": {
        "id": "wY1OcfRUhfL0",
        "colab": {
          "base_uri": "https://localhost:8080/",
          "height": 381
        },
        "outputId": "3095c35a-3715-4f64-98b0-a3b6425e3d4b"
      },
      "source": [
        "# Confusion matrix\n",
        "y_pred = dt.predict(X_test)\n",
        "\n",
        "from sklearn import metrics\n",
        "cf = metrics.confusion_matrix(y_test, y_pred)\n",
        "print(cf)\n",
        "\n",
        "import matplotlib.pyplot as plt\n",
        "metrics.plot_confusion_matrix(dt, X_test, y_test)\n",
        "plt.show()"
      ],
      "execution_count": 15,
      "outputs": [
        {
          "output_type": "stream",
          "text": [
            "[[   0    0    0    0    1    0]\n",
            " [   2 1934    0    0  289    0]\n",
            " [   0    5    0    0    0    0]\n",
            " [   0    1    0    0    0    0]\n",
            " [   0  437    0    0  406    0]\n",
            " [   0    1    0    0    0    0]]\n"
          ],
          "name": "stdout"
        },
        {
          "output_type": "display_data",
          "data": {
            "image/png": "[encoded data removed]",
            "text/plain": [
              "<Figure size 432x288 with 2 Axes>"
            ]
          },
          "metadata": {
            "tags": [],
            "needs_background": "light"
          }
        }
      ]
    },
    {
      "cell_type": "code",
      "metadata": {
        "colab": {
          "base_uri": "https://localhost:8080/"
        },
        "id": "Lh9dHeS6h0EZ",
        "outputId": "a478c8ce-86f3-4271-e787-5b1d862ce591"
      },
      "source": [
        "# Accuracy on test partition\n",
        "print('Accuracy =', metrics.accuracy_score(y_test, y_pred))"
      ],
      "execution_count": 16,
      "outputs": [
        {
          "output_type": "stream",
          "text": [
            "Accuracy = 0.7607282184655396\n"
          ],
          "name": "stdout"
        }
      ]
    },
    {
      "cell_type": "code",
      "metadata": {
        "colab": {
          "base_uri": "https://localhost:8080/",
          "height": 683
        },
        "id": "x65lwRuPokq_",
        "outputId": "4a76fb3f-748b-4675-abf7-324cc317d873"
      },
      "source": [
        "dt = DecisionTreeClassifier(max_depth=6, criterion=\"entropy\", random_state=2020)\n",
        "dt.fit(X_train, y_train)\n",
        "y_pred = dt.predict(X_test)\n",
        "\n",
        "fn = X.columns\n",
        "\n",
        "from sklearn import tree\n",
        "import matplotlib.pyplot as plt\n",
        "plt.figure(figsize=(12,12))\n",
        "classList = list(map(str,dt.classes_.tolist()))\n",
        "a = tree.plot_tree(dt, feature_names=fn, class_names=classList, filled=True)\n",
        "plt.show()"
      ],
      "execution_count": 17,
      "outputs": [
        {
          "output_type": "display_data",
          "data": {
            "image/png": "[encoded data removed]",
            "text/plain": [
              "<Figure size 864x864 with 1 Axes>"
            ]
          },
          "metadata": {
            "tags": [],
            "needs_background": "light"
          }
        }
      ]
    },
    {
      "cell_type": "code",
      "metadata": {
        "colab": {
          "base_uri": "https://localhost:8080/",
          "height": 204
        },
        "id": "wDQa7-eWqirs",
        "outputId": "f92a4685-2314-4439-8ff5-478538857eab"
      },
      "source": [
        "# Top 3 most important factors in my decision tree for determining rating\n",
        "imp = pd.DataFrame(zip(X_train.columns, dt.feature_importances_)).sort_values(by=[1],ascending = False)\n",
        "imp.head()"
      ],
      "execution_count": 18,
      "outputs": [
        {
          "output_type": "execute_result",
          "data": {
            "text/html": [
              "<div>\n",
              "<style scoped>\n",
              "    .dataframe tbody tr th:only-of-type {\n",
              "        vertical-align: middle;\n",
              "    }\n",
              "\n",
              "    .dataframe tbody tr th {\n",
              "        vertical-align: top;\n",
              "    }\n",
              "\n",
              "    .dataframe thead th {\n",
              "        text-align: right;\n",
              "    }\n",
              "</style>\n",
              "<table border=\"1\" class=\"dataframe\">\n",
              "  <thead>\n",
              "    <tr style=\"text-align: right;\">\n",
              "      <th></th>\n",
              "      <th>0</th>\n",
              "      <th>1</th>\n",
              "    </tr>\n",
              "  </thead>\n",
              "  <tbody>\n",
              "    <tr>\n",
              "      <th>25</th>\n",
              "      <td>Genre_Shooter</td>\n",
              "      <td>0.301041</td>\n",
              "    </tr>\n",
              "    <tr>\n",
              "      <th>17</th>\n",
              "      <td>Genre_Action</td>\n",
              "      <td>0.198737</td>\n",
              "    </tr>\n",
              "    <tr>\n",
              "      <th>24</th>\n",
              "      <td>Genre_Role-Playing</td>\n",
              "      <td>0.084208</td>\n",
              "    </tr>\n",
              "    <tr>\n",
              "      <th>2</th>\n",
              "      <td>Platform_DS</td>\n",
              "      <td>0.068567</td>\n",
              "    </tr>\n",
              "    <tr>\n",
              "      <th>19</th>\n",
              "      <td>Genre_Fighting</td>\n",
              "      <td>0.058842</td>\n",
              "    </tr>\n",
              "  </tbody>\n",
              "</table>\n",
              "</div>"
            ],
            "text/plain": [
              "                     0         1\n",
              "25       Genre_Shooter  0.301041\n",
              "17        Genre_Action  0.198737\n",
              "24  Genre_Role-Playing  0.084208\n",
              "2          Platform_DS  0.068567\n",
              "19      Genre_Fighting  0.058842"
            ]
          },
          "metadata": {
            "tags": []
          },
          "execution_count": 18
        }
      ]
    },
    {
      "cell_type": "markdown",
      "metadata": {
        "id": "_rt4VJDUtTFG"
      },
      "source": [
        "# 2nd Model: Bagging\n",
        "Hyperparameters:\n",
        "\n",
        "Base estimator = DecisionTreeClassifier\n",
        "\n",
        "n_estimators = 10\n",
        "\n",
        "random_state = 42"
      ]
    },
    {
      "cell_type": "code",
      "metadata": {
        "colab": {
          "base_uri": "https://localhost:8080/"
        },
        "id": "t_6Yq2ewtWGR",
        "outputId": "4e3a62b3-cf39-4ef4-d9aa-ab14e6b38c44"
      },
      "source": [
        "from sklearn.ensemble import BaggingClassifier\n",
        "from sklearn.tree import DecisionTreeClassifier\n",
        "from sklearn.metrics import accuracy_score\n",
        "\n",
        "cart = DecisionTreeClassifier()\n",
        "model_bagging = BaggingClassifier(base_estimator=cart, n_estimators=10, random_state=42)\n",
        "model_bagging.fit(X_train, y_train)\n",
        "pred_bagging = model_bagging.predict(X_test)\n",
        "acc_bagging = accuracy_score(y_test, pred_bagging)\n",
        "\n",
        "print(' Accuracy =', acc_bagging)"
      ],
      "execution_count": 19,
      "outputs": [
        {
          "output_type": "stream",
          "text": [
            " Accuracy = 0.7756827048114434\n"
          ],
          "name": "stdout"
        }
      ]
    },
    {
      "cell_type": "markdown",
      "metadata": {
        "id": "FkcK-uotHorq"
      },
      "source": [
        "# 3rd Model: Random Forest\n",
        "Constructor arguments:\n",
        "\n",
        "n_estimators = 100, max_features = 7 and random_state = 42"
      ]
    },
    {
      "cell_type": "code",
      "metadata": {
        "colab": {
          "base_uri": "https://localhost:8080/"
        },
        "id": "Fdmq-sGgHqrE",
        "outputId": "af6ffce1-6fa3-4601-8e83-0811d995ada2"
      },
      "source": [
        "from sklearn.metrics import (classification_report,recall_score,precision_score,accuracy_score)\n",
        "\n",
        "from sklearn.ensemble import RandomForestClassifier\n",
        "model_rf = RandomForestClassifier(n_estimators=100, max_features=7, random_state=42)\n",
        "model_rf.fit(X_train, y_train)\n",
        "predict_rf = model_rf.predict(X_test)\n",
        "accuracy_rf = accuracy_score(y_test, predict_rf)\n",
        "\n",
        "print(accuracy_rf)"
      ],
      "execution_count": 20,
      "outputs": [
        {
          "output_type": "stream",
          "text": [
            "0.7727568270481144\n"
          ],
          "name": "stdout"
        }
      ]
    },
    {
      "cell_type": "code",
      "metadata": {
        "colab": {
          "base_uri": "https://localhost:8080/",
          "height": 204
        },
        "id": "7tepVTEWcDMB",
        "outputId": "3604e097-eb6d-4167-be32-79bd4897d9ff"
      },
      "source": [
        "# Top 3 most important factors in Random Forest for determining rating\n",
        "feature_importances = model_rf.feature_importances_\n",
        "features = imp = pd.DataFrame(zip(X_train.columns, model_rf.feature_importances_)).sort_values(by=[1],ascending=False)\n",
        "features.head()"
      ],
      "execution_count": 21,
      "outputs": [
        {
          "output_type": "execute_result",
          "data": {
            "text/html": [
              "<div>\n",
              "<style scoped>\n",
              "    .dataframe tbody tr th:only-of-type {\n",
              "        vertical-align: middle;\n",
              "    }\n",
              "\n",
              "    .dataframe tbody tr th {\n",
              "        vertical-align: top;\n",
              "    }\n",
              "\n",
              "    .dataframe thead th {\n",
              "        text-align: right;\n",
              "    }\n",
              "</style>\n",
              "<table border=\"1\" class=\"dataframe\">\n",
              "  <thead>\n",
              "    <tr style=\"text-align: right;\">\n",
              "      <th></th>\n",
              "      <th>0</th>\n",
              "      <th>1</th>\n",
              "    </tr>\n",
              "  </thead>\n",
              "  <tbody>\n",
              "    <tr>\n",
              "      <th>25</th>\n",
              "      <td>Genre_Shooter</td>\n",
              "      <td>0.096790</td>\n",
              "    </tr>\n",
              "    <tr>\n",
              "      <th>27</th>\n",
              "      <td>Genre_Sports</td>\n",
              "      <td>0.050155</td>\n",
              "    </tr>\n",
              "    <tr>\n",
              "      <th>17</th>\n",
              "      <td>Genre_Action</td>\n",
              "      <td>0.049149</td>\n",
              "    </tr>\n",
              "    <tr>\n",
              "      <th>2</th>\n",
              "      <td>Platform_DS</td>\n",
              "      <td>0.033036</td>\n",
              "    </tr>\n",
              "    <tr>\n",
              "      <th>23</th>\n",
              "      <td>Genre_Racing</td>\n",
              "      <td>0.028637</td>\n",
              "    </tr>\n",
              "  </tbody>\n",
              "</table>\n",
              "</div>"
            ],
            "text/plain": [
              "                0         1\n",
              "25  Genre_Shooter  0.096790\n",
              "27   Genre_Sports  0.050155\n",
              "17   Genre_Action  0.049149\n",
              "2     Platform_DS  0.033036\n",
              "23   Genre_Racing  0.028637"
            ]
          },
          "metadata": {
            "tags": []
          },
          "execution_count": 21
        }
      ]
    },
    {
      "cell_type": "markdown",
      "metadata": {
        "id": "0I1IdgkLcSl5"
      },
      "source": [
        "# 4th Model: Boosting"
      ]
    },
    {
      "cell_type": "code",
      "metadata": {
        "colab": {
          "base_uri": "https://localhost:8080/"
        },
        "id": "dIjSemyNKFMp",
        "outputId": "ee9575b6-34a1-45e9-cfbc-fc3402bdf2af"
      },
      "source": [
        "from sklearn.ensemble import AdaBoostClassifier\n",
        "\n",
        "base_est = DecisionTreeClassifier(max_depth=4)\n",
        "ada_boost1 = AdaBoostClassifier(base_est, n_estimators=200, random_state=42, learning_rate=0.05)\n",
        "ada_boost1.fit(X_train, y_train)\n",
        "res1 = round(accuracy_score(y_test, ada_boost1.predict(X_test)),4)\n",
        "\n",
        "print('MODEL Accurcay:\\t {}'.format(res1))"
      ],
      "execution_count": 22,
      "outputs": [
        {
          "output_type": "stream",
          "text": [
            "MODEL Accurcay:\t 0.7263\n"
          ],
          "name": "stdout"
        }
      ]
    },
    {
      "cell_type": "code",
      "metadata": {
        "colab": {
          "base_uri": "https://localhost:8080/",
          "height": 204
        },
        "id": "hWysoCOVmjKP",
        "outputId": "90a5c78c-5363-4866-976c-352b9f3aa50b"
      },
      "source": [
        "# Top 3 most important factors in Boosting for determining rating\n",
        "feature_importances1 = ada_boost1.feature_importances_\n",
        "features1 = pd.DataFrame(zip(X_train.columns, ada_boost1.feature_importances_)).sort_values(by=[1],ascending=False)\n",
        "features1.head()"
      ],
      "execution_count": 23,
      "outputs": [
        {
          "output_type": "execute_result",
          "data": {
            "text/html": [
              "<div>\n",
              "<style scoped>\n",
              "    .dataframe tbody tr th:only-of-type {\n",
              "        vertical-align: middle;\n",
              "    }\n",
              "\n",
              "    .dataframe tbody tr th {\n",
              "        vertical-align: top;\n",
              "    }\n",
              "\n",
              "    .dataframe thead th {\n",
              "        text-align: right;\n",
              "    }\n",
              "</style>\n",
              "<table border=\"1\" class=\"dataframe\">\n",
              "  <thead>\n",
              "    <tr style=\"text-align: right;\">\n",
              "      <th></th>\n",
              "      <th>0</th>\n",
              "      <th>1</th>\n",
              "    </tr>\n",
              "  </thead>\n",
              "  <tbody>\n",
              "    <tr>\n",
              "      <th>5</th>\n",
              "      <td>Platform_PC</td>\n",
              "      <td>0.089881</td>\n",
              "    </tr>\n",
              "    <tr>\n",
              "      <th>25</th>\n",
              "      <td>Genre_Shooter</td>\n",
              "      <td>0.078809</td>\n",
              "    </tr>\n",
              "    <tr>\n",
              "      <th>28</th>\n",
              "      <td>Genre_Strategy</td>\n",
              "      <td>0.073662</td>\n",
              "    </tr>\n",
              "    <tr>\n",
              "      <th>71</th>\n",
              "      <td>Publisher_Black Bean Games</td>\n",
              "      <td>0.061309</td>\n",
              "    </tr>\n",
              "    <tr>\n",
              "      <th>17</th>\n",
              "      <td>Genre_Action</td>\n",
              "      <td>0.046424</td>\n",
              "    </tr>\n",
              "  </tbody>\n",
              "</table>\n",
              "</div>"
            ],
            "text/plain": [
              "                             0         1\n",
              "5                  Platform_PC  0.089881\n",
              "25               Genre_Shooter  0.078809\n",
              "28              Genre_Strategy  0.073662\n",
              "71  Publisher_Black Bean Games  0.061309\n",
              "17                Genre_Action  0.046424"
            ]
          },
          "metadata": {
            "tags": []
          },
          "execution_count": 23
        }
      ]
    },
    {
      "cell_type": "markdown",
      "metadata": {
        "id": "NsVmUzdBmq0S"
      },
      "source": [
        "# 5. Voting Classifier"
      ]
    },
    {
      "cell_type": "code",
      "metadata": {
        "colab": {
          "base_uri": "https://localhost:8080/"
        },
        "id": "L7RsDlXrmx2N",
        "outputId": "5b38aa81-0a72-4679-abb0-6515d8eda93a"
      },
      "source": [
        "from sklearn.ensemble import RandomForestClassifier, VotingClassifier\n",
        "from sklearn.svm import SVC\n",
        "from sklearn.linear_model import LogisticRegression\n",
        "\n",
        "rfClf = RandomForestClassifier(n_estimators=200, random_state=0) \n",
        "dtClf = DecisionTreeClassifier(max_depth=4)\n",
        "svmClf = SVC(probability=True, random_state=0)\n",
        "logClf = LogisticRegression(random_state=0)\n",
        "\n",
        "# constructing the ensemble classifier by mentioning the individual classifiers.\n",
        "clf2 = VotingClassifier(estimators = [('rf',rfClf), ('dt',dtClf), ('svm',svmClf), ('log', logClf)], voting='soft') \n",
        "\n",
        "# train the ensemble classifier\n",
        "clf2.fit(X_train, y_train)\n",
        "\n",
        "clf2_pred = clf2.predict(X_test)\n",
        "print('Accuracy score', accuracy_score(y_test, clf2_pred))"
      ],
      "execution_count": 24,
      "outputs": [
        {
          "output_type": "stream",
          "text": [
            "/usr/local/lib/python3.7/dist-packages/sklearn/linear_model/_logistic.py:940: ConvergenceWarning: lbfgs failed to converge (status=1):\n",
            "STOP: TOTAL NO. of ITERATIONS REACHED LIMIT.\n",
            "\n",
            "Increase the number of iterations (max_iter) or scale the data as shown in:\n",
            "    https://scikit-learn.org/stable/modules/preprocessing.html\n",
            "Please also refer to the documentation for alternative solver options:\n",
            "    https://scikit-learn.org/stable/modules/linear_model.html#logistic-regression\n",
            "  extra_warning_msg=_LOGISTIC_SOLVER_CONVERGENCE_MSG)\n"
          ],
          "name": "stderr"
        },
        {
          "output_type": "stream",
          "text": [
            "Accuracy score 0.7870611183355006\n"
          ],
          "name": "stdout"
        }
      ]
    },
    {
      "cell_type": "markdown",
      "metadata": {
        "id": "xM2prC5qro2o"
      },
      "source": [
        "# Cross Validation\n",
        "Now, we are going to use cross validation to fine tune the model’s parameters"
      ]
    },
    {
      "cell_type": "code",
      "metadata": {
        "colab": {
          "base_uri": "https://localhost:8080/"
        },
        "id": "xmYJp4hKroKc",
        "outputId": "0d1cdbc1-d74d-43aa-af3a-63144aff9fab"
      },
      "source": [
        "from sklearn.model_selection import cross_val_score\n",
        "\n",
        "cv = np.mean(cross_val_score(model_rf, X_train, y_train, cv=10))\n",
        "print(cv)\n"
      ],
      "execution_count": 29,
      "outputs": [
        {
          "output_type": "stream",
          "text": [
            "/usr/local/lib/python3.7/dist-packages/sklearn/model_selection/_split.py:667: UserWarning: The least populated class in y has only 1 members, which is less than n_splits=10.\n",
            "  % (min_groups, self.n_splits)), UserWarning)\n"
          ],
          "name": "stderr"
        },
        {
          "output_type": "stream",
          "text": [
            "0.7703443627308152\n"
          ],
          "name": "stdout"
        }
      ]
    },
    {
      "cell_type": "markdown",
      "metadata": {
        "id": "LfvPI_CJtyAw"
      },
      "source": [
        "# Simplifying the Model\n",
        "Using L1 regularization"
      ]
    },
    {
      "cell_type": "code",
      "metadata": {
        "colab": {
          "base_uri": "https://localhost:8080/"
        },
        "id": "nQ1Qhoopt5AE",
        "outputId": "182a31db-d8f7-4fc7-c112-4218d2c67e11"
      },
      "source": [
        "# prevent overfitting the data\n",
        "from sklearn import linear_model\n",
        "reg = linear_model.Lasso(alpha=0.1)\n",
        "reg.fit([[0, 0], [0, 0], [1, 1]], [0, 0.1, 1])"
      ],
      "execution_count": 26,
      "outputs": [
        {
          "output_type": "execute_result",
          "data": {
            "text/plain": [
              "Lasso(alpha=0.1, copy_X=True, fit_intercept=True, max_iter=1000,\n",
              "      normalize=False, positive=False, precompute=False, random_state=None,\n",
              "      selection='cyclic', tol=0.0001, warm_start=False)"
            ]
          },
          "metadata": {
            "tags": []
          },
          "execution_count": 26
        }
      ]
    },
    {
      "cell_type": "code",
      "metadata": {
        "colab": {
          "base_uri": "https://localhost:8080/"
        },
        "id": "cVjl7Q_Ht7v5",
        "outputId": "3c2f67db-7bd8-43bc-d494-1e739b0a0284"
      },
      "source": [
        "reg.coef_"
      ],
      "execution_count": 27,
      "outputs": [
        {
          "output_type": "execute_result",
          "data": {
            "text/plain": [
              "array([0.5, 0. ])"
            ]
          },
          "metadata": {
            "tags": []
          },
          "execution_count": 27
        }
      ]
    },
    {
      "cell_type": "code",
      "metadata": {
        "colab": {
          "base_uri": "https://localhost:8080/"
        },
        "id": "cbr73ZfAt9oC",
        "outputId": "7ae1ea50-6899-4d2d-b7a2-393958c7bdff"
      },
      "source": [
        "reg.intercept_"
      ],
      "execution_count": 28,
      "outputs": [
        {
          "output_type": "execute_result",
          "data": {
            "text/plain": [
              "0.20000000000000004"
            ]
          },
          "metadata": {
            "tags": []
          },
          "execution_count": 28
        }
      ]
    }
  ]
}